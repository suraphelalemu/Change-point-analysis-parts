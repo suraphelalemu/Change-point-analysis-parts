{
 "cells": [
  {
   "cell_type": "markdown",
   "id": "27a30c0c",
   "metadata": {},
   "source": [
    "## Visualization"
   ]
  },
  {
   "cell_type": "code",
   "execution_count": 1,
   "id": "6033ba73",
   "metadata": {},
   "outputs": [
    {
     "name": "stdout",
     "output_type": "stream",
     "text": [
      "No price data for event date: 2014-11-27 00:00:00\n"
     ]
    }
   ],
   "source": [
    "import pandas as pd\n",
    "import matplotlib.pyplot as plt\n",
    "import matplotlib.dates as mdates\n",
    "\n",
    "def plot_change_points(df, change_dates, events_file=None):\n",
    "    plt.figure(figsize=(16, 8))\n",
    "    \n",
    "    # Main price series\n",
    "    plt.plot(df['Date'], df['Price'], label='Brent Oil Price', alpha=0.7)\n",
    "    \n",
    "    # Change points\n",
    "    for cp in change_dates:\n",
    "     plt.axvline(cp, color='red', linestyle='--', alpha=0.6, label='Change Point')\n",
    "    \n",
    "    # Events annotation\n",
    "    if events_file:\n",
    "        events = pd.read_csv(events_file, parse_dates=['Date'])\n",
    "        for _, row in events.iterrows():\n",
    "            price_value = df.loc[df['Date'] == row['Date'], 'Price']\n",
    "            if not price_value.empty:\n",
    "                plt.annotate(row['Event'], \n",
    "                             xy=(row['Date'], price_value.values[0]),\n",
    "                             xytext=(10, 10), \n",
    "                             textcoords='offset points',\n",
    "                             arrowprops=dict(arrowstyle='->', color='green'))\n",
    "            else:\n",
    "                print(f\"No price data for event date: {row['Date']}\")\n",
    "\n",
    "    # Formatting\n",
    "    plt.title('Brent Oil Prices with Detected Change Points')\n",
    "    plt.xlabel('Date')\n",
    "    plt.ylabel('Price (USD)')\n",
    "    plt.gca().xaxis.set_major_locator(mdates.YearLocator(5))\n",
    "    plt.gca().xaxis.set_major_formatter(mdates.DateFormatter('%Y'))\n",
    "    plt.grid(True)\n",
    "    plt.legend()\n",
    "    plt.tight_layout()\n",
    "    plt.savefig('../outputs/figures/final_change_points.png')\n",
    "    plt.close()\n",
    "\n",
    "if __name__ == \"__main__\":\n",
    "    df = pd.read_csv('../data/cleaned_oil_prices.csv', parse_dates=['Date'])\n",
    "    change_dates = pd.to_datetime(['2008-07-15', '2014-11-27', '2020-04-20'])  # Example change points\n",
    "    plot_change_points(df, change_dates, '../data/events_annotated.csv')"
   ]
  }
 ],
 "metadata": {
  "kernelspec": {
   "display_name": "myenv",
   "language": "python",
   "name": "python3"
  },
  "language_info": {
   "codemirror_mode": {
    "name": "ipython",
    "version": 3
   },
   "file_extension": ".py",
   "mimetype": "text/x-python",
   "name": "python",
   "nbconvert_exporter": "python",
   "pygments_lexer": "ipython3",
   "version": "3.10.6"
  }
 },
 "nbformat": 4,
 "nbformat_minor": 5
}
