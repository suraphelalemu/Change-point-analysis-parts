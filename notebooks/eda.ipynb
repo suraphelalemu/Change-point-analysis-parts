{
 "cells": [
  {
   "cell_type": "markdown",
   "id": "7ba97a6d",
   "metadata": {},
   "source": [
    "## Task 1: Laying the Foundation for Analysis"
   ]
  },
  {
   "cell_type": "code",
   "execution_count": 2,
   "id": "48776155",
   "metadata": {},
   "outputs": [
    {
     "name": "stdout",
     "output_type": "stream",
     "text": [
      "                                Date        Price\n",
      "count                           9011  9011.000000\n",
      "mean   2005-02-10 23:46:53.760958720    48.420782\n",
      "min              1987-05-20 00:00:00     9.100000\n",
      "25%              1996-03-20 12:00:00    19.050000\n",
      "50%              2005-02-02 00:00:00    38.570000\n",
      "75%              2014-01-09 12:00:00    70.090000\n",
      "max              2022-11-14 00:00:00   143.950000\n",
      "std                              NaN    32.860110\n",
      "\n",
      "Stationarity Test Results:\n",
      "ADF Statistic: -1.993856011392467\n",
      "p-value: 0.2892735048934032\n",
      "Price: Non-Stationary\n"
     ]
    }
   ],
   "source": [
    "import pandas as pd\n",
    "import matplotlib.pyplot as plt\n",
    "import seaborn as sns\n",
    "from statsmodels.tsa.stattools import adfuller\n",
    "from statsmodels.graphics.tsaplots import plot_acf, plot_pacf\n",
    "\n",
    "def perform_eda(df):\n",
    "    # Basic statistics\n",
    "    print(df.describe())\n",
    "    \n",
    "    # Time series plot\n",
    "    plt.figure(figsize=(14, 6))\n",
    "    plt.plot(df['Date'], df['Price'])\n",
    "    plt.title('Brent Oil Price Trend (1987-2022)')\n",
    "    plt.xlabel('Date')\n",
    "    plt.ylabel('Price (USD)')\n",
    "    plt.grid()\n",
    "    plt.savefig('../outputs/figures/price_trend.png')\n",
    "    plt.close()\n",
    "    \n",
    "    # Stationarity tests\n",
    "    def test_stationarity(series):\n",
    "        result = adfuller(series.dropna())\n",
    "        print(f'ADF Statistic: {result[0]}')\n",
    "        print(f'p-value: {result[1]}')\n",
    "        return result[1] < 0.05\n",
    "    \n",
    "    print(\"\\nStationarity Test Results:\")\n",
    "    for col in ['Price']:\n",
    "        is_stationary = test_stationarity(df[col])\n",
    "        print(f\"{col}: {'Stationary' if is_stationary else 'Non-Stationary'}\")\n",
    "    \n",
    "    # ACF/PACF analysis\n",
    "    fig, (ax1, ax2) = plt.subplots(2, 1, figsize=(12, 8))\n",
    "    # plot_acf(df['Returns'].dropna(), ax=ax1, lags=40)\n",
    "    # plot_pacf(df['Returns'].dropna(), ax=ax2, lags=40)\n",
    "    plt.savefig('../outputs/figures/acf_pacf.png')\n",
    "    plt.close()\n",
    "    \n",
    "    # Volatility clustering visualization\n",
    "    plt.figure(figsize=(14, 4))\n",
    "    # plt.plot(df['Date'], df['Returns'].abs())\n",
    "    # plt.title('Absolute Returns (Volatility Clustering)')\n",
    "    # plt.savefig('../outputs/figures/volatility_clusters.png')\n",
    "    plt.close()\n",
    "\n",
    "if __name__ == \"__main__\":\n",
    "    df = pd.read_csv('../data/BrentOilPrices.csv', parse_dates=['Date'])\n",
    "    perform_eda(df)"
   ]
  }
 ],
 "metadata": {
  "kernelspec": {
   "display_name": "myenv",
   "language": "python",
   "name": "python3"
  },
  "language_info": {
   "codemirror_mode": {
    "name": "ipython",
    "version": 3
   },
   "file_extension": ".py",
   "mimetype": "text/x-python",
   "name": "python",
   "nbconvert_exporter": "python",
   "pygments_lexer": "ipython3",
   "version": "3.10.6"
  }
 },
 "nbformat": 4,
 "nbformat_minor": 5
}
